{
 "cells": [
  {
   "cell_type": "code",
   "execution_count": 5,
   "metadata": {},
   "outputs": [],
   "source": [
    "from math import *"
   ]
  },
  {
   "cell_type": "code",
   "execution_count": 6,
   "metadata": {},
   "outputs": [],
   "source": [
    "def clamp(input):\n",
    "    if( input > 1 ): return 1\n",
    "    if( input < 0 ): return 0\n",
    "    return input\n",
    "\n",
    "def wrap(input,max): # very lazy...\n",
    "    if( input > max ): return input - max\n",
    "    return input\n"
   ]
  },
  {
   "cell_type": "code",
   "execution_count": 7,
   "metadata": {},
   "outputs": [],
   "source": [
    "def HSVtoRGBW(h_in,s_in,v_in):\n",
    "    H = (3.14159*wrap(h_in,360)/180.0) # Convert to radians.\n",
    "    S = clamp(s_in) # clamp S and I to interval [0,1]\n",
    "    I = clamp(v_in) \n",
    "    \n",
    "    if(H < 2.09439): \n",
    "        cos_h = cos(H)\n",
    "        cos_1047_h = cos(1.047196667-H)\n",
    "        r = S*I/3*(1+cos_h/cos_1047_h)\n",
    "        g = S*I/3*(1+(1-cos_h/cos_1047_h))\n",
    "        b = 0\n",
    "        w = (1-S)*I\n",
    "    elif (H < 4.188787):\n",
    "        H = H - 2.09439\n",
    "        cos_h = cos(H)\n",
    "        cos_1047_h = cos(1.047196667-H)\n",
    "        g = S*I/3*(1+cos_h/cos_1047_h)\n",
    "        b = S*I/3*(1+(1-cos_h/cos_1047_h))\n",
    "        r = 0\n",
    "        w = (1-S)*I\n",
    "    else:\n",
    "        H = H - 4.188787\n",
    "        cos_h = cos(H)\n",
    "        cos_1047_h = cos(1.047196667-H)\n",
    "        b = S*I/3*(1+cos_h/cos_1047_h)\n",
    "        r = S*I/3*(1+(1-cos_h/cos_1047_h))\n",
    "        g = 0\n",
    "        w = (1-S)*I\n",
    "    return [r,g,b,w]"
   ]
  },
  {
   "cell_type": "code",
   "execution_count": 29,
   "metadata": {},
   "outputs": [],
   "source": [
    "def RGBWtoHSV(r,g,b,w):\n",
    "    # (b + r + g ) = S * I\n",
    "    # (w) = (1-S) * I\n",
    "    v = (r + g + b + w)\n",
    "    s = 1 - (w / v)\n",
    "\n",
    "    mn = min(min(r, g), b)\n",
    "    mx = max(max(r, g), b)\n",
    "    rn = mx - mn\n",
    "    h = 0\n",
    "    if( mn == mx ): h = 0\n",
    "    elif (mx == r): h = (g-b)/rn\n",
    "    elif (mx == g): h = 2+(b-r)/rn\n",
    "    elif (mx == b): h = 4+(r-g)/rn\n",
    "\n",
    "    return [h*60,s,v]\n",
    "    "
   ]
  },
  {
   "cell_type": "code",
   "execution_count": 30,
   "metadata": {},
   "outputs": [],
   "source": [
    "def roundtripHSV(h,s,v):\n",
    "    [r,g,b,w] = HSVtoRGBW(h,s,v)\n",
    "    [h1,s1,v1] = RGBWtoHSV(r,g,b,w)\n",
    "    error = abs(h-h1)/360 + abs(s-s1) + abs(v-v1)\n",
    "    print( f\"Translated [{h},{s},{v}] into [{r},{g},{b},{w}] and back to [{h1},{s1},{v1}] with error of: {error}\")"
   ]
  },
  {
   "cell_type": "code",
   "execution_count": 32,
   "metadata": {},
   "outputs": [
    {
     "name": "stdout",
     "output_type": "stream",
     "text": [
      "Translated [0,0,1] into [0.0,0.0,0,1] and back to [0,0.0,1.0] with error of: 0.0\n",
      "Translated [0,1,1] into [0.9999989790195367,1.02098046328436e-06,0,0] and back to [6.125889034119183e-05,1.0,1.0] with error of: 1.7016358428108843e-07\n",
      "Translated [120,1,1] into [0,0.9999951300537187,4.869946281349513e-06,0] and back to [120.00029219819987,1.0,1.0] with error of: 8.116616663124255e-07\n",
      "Translated [240,1,1] into [0,-2.316768978808762e-06,1.0000023167689787,0] and back to [240.00013900549465,1.0,0.9999999999999999] with error of: 3.861263741263462e-07\n",
      "Translated [240,0.5,0.5] into [0,-5.791922447021906e-07,0.25000057919224467,0.25] and back to [240.00013900549465,0.5,0.5] with error of: 3.861263740153239e-07\n"
     ]
    }
   ],
   "source": [
    "roundtripHSV(0, 0, 1)\n",
    "roundtripHSV(0,1,1)\n",
    "roundtripHSV(120,1,1)\n",
    "roundtripHSV(240,1,1)\n",
    "roundtripHSV(240,0.5,0.5)"
   ]
  },
  {
   "cell_type": "code",
   "execution_count": null,
   "metadata": {},
   "outputs": [],
   "source": [
    "for i in range(0, 30):\n",
    "    h = i / 10\n",
    "    cos_h = cos(h)\n",
    "    cos_1047_h = cos(1.0471 - h)\n",
    "    r = (1 + cos_h / cos_1047_h)\n",
    "    g = (1+(1-cos_h / cos_1047_h))\n",
    "    t = r + g\n",
    "    print(f\"H: {h} => R: {r}, G: {g}, t: {t}\")"
   ]
  },
  {
   "cell_type": "code",
   "execution_count": null,
   "metadata": {},
   "outputs": [],
   "source": []
  }
 ],
 "metadata": {
  "kernelspec": {
   "display_name": "base",
   "language": "python",
   "name": "python3"
  },
  "language_info": {
   "codemirror_mode": {
    "name": "ipython",
    "version": 3
   },
   "file_extension": ".py",
   "mimetype": "text/x-python",
   "name": "python",
   "nbconvert_exporter": "python",
   "pygments_lexer": "ipython3",
   "version": "3.10.9"
  }
 },
 "nbformat": 4,
 "nbformat_minor": 2
}
